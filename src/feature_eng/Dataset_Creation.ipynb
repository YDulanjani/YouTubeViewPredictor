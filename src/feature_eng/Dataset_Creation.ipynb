{
 "cells": [
  {
   "cell_type": "code",
   "execution_count": 1,
   "metadata": {},
   "outputs": [],
   "source": [
    "import numpy as np\n",
    "import pandas as pd\n",
    "from datetime import datetime\n",
    "import seaborn as sns\n",
    "import matplotlib.pyplot as plt\n",
    "\n",
    "data = pd.read_csv('../../datasets/USvideos.csv')"
   ]
  },
  {
   "cell_type": "code",
   "execution_count": 2,
   "metadata": {
    "scrolled": true
   },
   "outputs": [
    {
     "name": "stdout",
     "output_type": "stream",
     "text": [
      "(40949, 10)\n"
     ]
    }
   ],
   "source": [
    "#drop likes, dislikes, comment_count, thumbnail_link\n",
    "useless_cols = ['likes', 'dislikes', 'comment_count', 'thumbnail_link', 'video_error_or_removed','video_id']\n",
    "modified_data = data.drop(columns = useless_cols)\n",
    "print(modified_data.shape)"
   ]
  },
  {
   "cell_type": "code",
   "execution_count": 3,
   "metadata": {},
   "outputs": [
    {
     "name": "stdout",
     "output_type": "stream",
     "text": [
      "(40379, 10)\n"
     ]
    }
   ],
   "source": [
    "#drop description missing rows\n",
    "modified_data['description'].replace('', np.nan, inplace=True)\n",
    "modified_data.dropna(subset=['description'], inplace=True)\n",
    "print(modified_data.shape)\n",
    "\n",
    "#concatanate text columns\n",
    "modified_data['channel_text'] = modified_data.title + ' ' + modified_data.channel_title + ' ' +modified_data.description +'  '+ modified_data.tags\n",
    "modified_data = modified_data.drop(columns = ['title', 'channel_title', 'description','tags'])\n",
    "# modified_data"
   ]
  },
  {
   "cell_type": "code",
   "execution_count": 4,
   "metadata": {},
   "outputs": [
    {
     "name": "stdout",
     "output_type": "stream",
     "text": [
      "(40203, 15)\n",
      "(39308, 15)\n"
     ]
    }
   ],
   "source": [
    "#convert times to timestamps\n",
    "#change the trending_date format to yyyy-mm-dd from yy.dd.mm\n",
    "modified_data['formatted_trending_date'] = pd.to_datetime(modified_data['trending_date'],format=\"%y.%d.%m\")\n",
    "modified_data['formatted_publish_time'] = pd.to_datetime(modified_data['publish_time'],format=\"%Y-%m-%dT%H:%M:%S.%fZ\")\n",
    "modified_data ['difference_d'] = (modified_data['formatted_trending_date'] - modified_data['formatted_publish_time']).astype('timedelta64[D]')\n",
    "modified_data ['difference_h'] = (modified_data['formatted_trending_date'] - modified_data['formatted_publish_time']).astype('timedelta64[h]')\n",
    "\n",
    "#US_video=US_video.assign(publish_day=US_video.publish_time.dt.day,publish_month=US_video.publish_time.dt.month,publish_year=US_video.publish_time.dt.year)\n",
    "\n",
    "modified_data ['published_year'] = modified_data['formatted_publish_time'].dt.year\n",
    "modified_data ['published_month'] = modified_data['formatted_publish_time'].dt.month\n",
    "modified_data ['trending_year'] = modified_data['formatted_trending_date'].dt.year\n",
    "modified_data ['trending_month'] = modified_data['formatted_trending_date'].dt.month\n",
    "\n",
    "#modified_data ['published_year_month'] = modified_data ['published_year'].astype(str)[2:] + ' ' + modified_data ['published_month'].astype(str) \n",
    "#modified_data ['trending_year_month'] = modified_data ['trending_year'].astype(str)[2:4] + ' ' + modified_data ['trending_month'].astype(str)\n",
    "\n",
    "#drop outliers - past published videos\n",
    "modified_data = modified_data[modified_data.published_year.isin([2016,2017,2018])]\n",
    "print(modified_data.shape)\n",
    "\n",
    "#get small range of view counts\n",
    "modified_data = modified_data[(modified_data['views'] >= 10000) & (modified_data['views'] <= 50000000)]\n",
    "print(modified_data.shape)\n",
    "\n",
    "modified_data['comments_disabled'] = modified_data['comments_disabled'].apply(lambda x: \"\\\"\" + str(x) + \"\\\"\")\n",
    "modified_data['ratings_disabled'] = modified_data['ratings_disabled'].apply(lambda x: \"\\\"\" + str(x) + \"\\\"\")\n",
    "\n",
    "#ax =sns.countplot(x=modified_data[\"views\"],data=modified_data)\n",
    "#sns.distplot(modified_data[\"published_year\"], kde=False, color='blue', bins=5)\n",
    "#ax.set_xticklabels(ax.get_xticklabels(), rotation=40, ha=\"right\")\n",
    "#plt.tight_layout()\n",
    "#plt.figure(figsize=(16,6))\n",
    "#plt.show()\n"
   ]
  },
  {
   "cell_type": "code",
   "execution_count": 5,
   "metadata": {},
   "outputs": [],
   "source": [
    "\n",
    "#drop un-wanted date columns\n",
    "modified_data = modified_data.drop(columns = ['trending_date', 'publish_time', 'formatted_trending_date', 'formatted_publish_time'])\n",
    "modified_data = modified_data.sample(1200)\n",
    "\n",
    "modified_data.to_csv('../../datasets/USvideos_Processed_train_1200_with-t_desc.csv',index=False, encoding='utf-8')"
   ]
  },
  {
   "cell_type": "code",
   "execution_count": null,
   "metadata": {},
   "outputs": [],
   "source": []
  }
 ],
 "metadata": {
  "kernelspec": {
   "display_name": "Python 3",
   "language": "python",
   "name": "python3"
  },
  "language_info": {
   "codemirror_mode": {
    "name": "ipython",
    "version": 3
   },
   "file_extension": ".py",
   "mimetype": "text/x-python",
   "name": "python",
   "nbconvert_exporter": "python",
   "pygments_lexer": "ipython3",
   "version": "3.6.9"
  }
 },
 "nbformat": 4,
 "nbformat_minor": 4
}
